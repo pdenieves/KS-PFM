{
 "cells": [
  {
   "cell_type": "code",
   "execution_count": 8,
   "id": "762ef3f0",
   "metadata": {},
   "outputs": [],
   "source": [
    "import os\n",
    "\n",
    "from matplotlib import pyplot as plt\n",
    "import PIL\n",
    "\n",
    "import tensorflow as tf\n",
    "from tensorflow import keras\n",
    "from tensorflow.keras import layers\n",
    "from tensorflow.keras.preprocessing.image import load_img\n",
    "from tensorflow.keras.preprocessing.image import array_to_img\n",
    "from tensorflow.keras.preprocessing.image import img_to_array\n",
    "from tensorflow.keras.preprocessing import image_dataset_from_directory"
   ]
  },
  {
   "cell_type": "code",
   "execution_count": 9,
   "id": "651d8358",
   "metadata": {},
   "outputs": [],
   "source": [
    "dir_img = 'C:\\\\_pfm\\\\img_blur'\n",
    "\n",
    "dir_l = dir_img + '\\\\val_blur'\n",
    "dir_s = dir_img + '\\\\val_down'\n"
   ]
  },
  {
   "cell_type": "code",
   "execution_count": 10,
   "id": "c1b8285f",
   "metadata": {},
   "outputs": [
    {
     "name": "stdout",
     "output_type": "stream",
     "text": [
      "Found 250 files belonging to 1 classes.\n"
     ]
    }
   ],
   "source": [
    "crop_size = 300\n",
    "upscale_factor = 4\n",
    "input_size = crop_size // upscale_factor\n",
    "batch_size = 8\n",
    "\n",
    "train_ds = image_dataset_from_directory(\n",
    "    dir_l,\n",
    "    batch_size=batch_size,\n",
    "    image_size=(crop_size, crop_size),\n",
    "    seed=101,\n",
    "    label_mode=None,\n",
    ")"
   ]
  },
  {
   "cell_type": "code",
   "execution_count": 11,
   "id": "35603cde",
   "metadata": {},
   "outputs": [],
   "source": [
    "def scaling(input_image):\n",
    "    input_image = input_image / 255.0\n",
    "    return input_image\n",
    "\n",
    "# Scale from (0, 255) to (0, 1)\n",
    "train_ds = train_ds.map(scaling)"
   ]
  },
  {
   "cell_type": "code",
   "execution_count": 12,
   "id": "560bd813",
   "metadata": {},
   "outputs": [],
   "source": [
    "#def get_lowres_image(img, upscale_factor):\n",
    "#    \"\"\"Return low-resolution image to use as model input.\"\"\"\n",
    "#    return img.resize(\n",
    "#        (img.size[0] // upscale_factor, img.size[1] // upscale_factor),\n",
    "#        PIL.Image.BICUBIC,\n",
    "#    )\n",
    "\n",
    "def get_lowres_image(img, upscale_factor):\n",
    "    \"\"\"Return low-resolution image to use as model input.\"\"\"\n",
    "    return img.resize(\n",
    "        (100, 100),\n",
    "        PIL.Image.BICUBIC,\n",
    "    )\n",
    "\n",
    "def plot_results(img, filename):\n",
    "    \"\"\"Plot the result with zoom-in area.\"\"\"\n",
    "    img_array = img_to_array(img)\n",
    "    img_array = img_array.astype(\"float32\") / 255.0\n",
    "\n",
    "    # Create a new figure with a default 111 subplot.\n",
    "    fig, ax = plt.subplots()\n",
    "    im = ax.imshow(img_array[::-1], origin=\"lower\")\n",
    "\n",
    "    ###plt.title(title)\n",
    "    ###plt.yticks(visible=False)\n",
    "    ###plt.xticks(visible=False)\n",
    "    plt.axis('off')\n",
    "    extent = ax.get_window_extent().transformed(fig.dpi_scale_trans.inverted())\n",
    "    plt.savefig(os.path.join(dir_s, filename),  bbox_inches = 'tight', pad_inches = 0)\n",
    "    \n",
    "    plt.show()"
   ]
  },
  {
   "cell_type": "code",
   "execution_count": 13,
   "id": "7c530570",
   "metadata": {},
   "outputs": [],
   "source": [
    "img_paths = sorted(\n",
    "    [\n",
    "        os.path.join(dir_l, fname)\n",
    "        for fname in os.listdir(dir_l)\n",
    "        if fname.endswith(\".jpg\")\n",
    "    ]\n",
    ")"
   ]
  },
  {
   "cell_type": "code",
   "execution_count": 14,
   "id": "133b067a",
   "metadata": {},
   "outputs": [],
   "source": [
    "for index, img_path in enumerate(img_paths[:]):\n",
    "    imagen = load_img(img_path)\n",
    "    #####lowres_input = get_lowres_image(imagen, upscale_factor)\n",
    "    #w = lowres_input.size[0] #* upscale_factor\n",
    "    #h = lowres_input.size[1] #* upscale_factor\n",
    "    #####tf.image.resize(lowres_input, [input_size, input_size], method=\"area\")\n",
    "    #lowres_img = lowres_input.resize((w, h))\n",
    "    \n",
    "    lowres_input = imagen.resize((100, 100))\n",
    "    \n",
    "    ###print(img_path)\n",
    "    filename = img_path.replace(dir_l, '')\n",
    "    filename = filename.replace('\\\\', '')\n",
    "    filename = filename.replace('low', 'redu')\n",
    "    \n",
    "    lowres_input.save(dir_s + '\\\\' + filename)\n",
    "    ###print(filename)\n",
    "    #####plot_results(lowres_input, filename)\n",
    "    "
   ]
  },
  {
   "cell_type": "code",
   "execution_count": null,
   "id": "ae7ae460",
   "metadata": {},
   "outputs": [],
   "source": []
  },
  {
   "cell_type": "code",
   "execution_count": null,
   "id": "45b226c8",
   "metadata": {},
   "outputs": [],
   "source": []
  },
  {
   "cell_type": "code",
   "execution_count": null,
   "id": "9d019137",
   "metadata": {},
   "outputs": [],
   "source": []
  },
  {
   "cell_type": "raw",
   "id": "9ed6556b",
   "metadata": {},
   "source": [
    "for batch in train_ds:\n",
    "    for img in batch:\n",
    "        imagen = array_to_img(img)\n",
    "        plot_results(imagen, prefix, title)\n",
    "        #display(imagen)"
   ]
  },
  {
   "cell_type": "code",
   "execution_count": null,
   "id": "4f808a40",
   "metadata": {},
   "outputs": [],
   "source": []
  },
  {
   "cell_type": "code",
   "execution_count": null,
   "id": "e8aa6a61",
   "metadata": {},
   "outputs": [],
   "source": []
  },
  {
   "cell_type": "code",
   "execution_count": null,
   "id": "4d260989",
   "metadata": {},
   "outputs": [],
   "source": []
  }
 ],
 "metadata": {
  "kernelspec": {
   "display_name": "Python 3 (ipykernel)",
   "language": "python",
   "name": "python3"
  },
  "language_info": {
   "codemirror_mode": {
    "name": "ipython",
    "version": 3
   },
   "file_extension": ".py",
   "mimetype": "text/x-python",
   "name": "python",
   "nbconvert_exporter": "python",
   "pygments_lexer": "ipython3",
   "version": "3.8.13"
  }
 },
 "nbformat": 4,
 "nbformat_minor": 5
}
