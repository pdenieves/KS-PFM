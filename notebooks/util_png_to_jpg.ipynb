{
 "cells": [
  {
   "cell_type": "markdown",
   "id": "10998b42",
   "metadata": {},
   "source": [
    "Utilidad para convertir las imágenes PNG de una carpeta a JPG."
   ]
  },
  {
   "cell_type": "code",
   "execution_count": 4,
   "id": "62c3df9c",
   "metadata": {},
   "outputs": [],
   "source": [
    "import os\n",
    "import cv2"
   ]
  },
  {
   "cell_type": "code",
   "execution_count": 19,
   "id": "a7db95c2",
   "metadata": {},
   "outputs": [],
   "source": [
    "dir_orig = 'C:\\\\_pfm\\\\img_png\\\\test_orig'\n",
    "dir_dest = 'C:\\\\_pfm\\\\img_png\\\\test_orig_jpg'"
   ]
  },
  {
   "cell_type": "code",
   "execution_count": 20,
   "id": "504018d1",
   "metadata": {},
   "outputs": [],
   "source": [
    "path_png = sorted(\n",
    "    [\n",
    "        os.path.join(dir_orig, fname)\n",
    "        for fname in os.listdir(dir_orig)\n",
    "        if fname.endswith(\".png\")\n",
    "    ]\n",
    ")"
   ]
  },
  {
   "cell_type": "code",
   "execution_count": 21,
   "id": "cb543782",
   "metadata": {},
   "outputs": [],
   "source": [
    "for index, img_png in enumerate(path_png[:]):\n",
    "\n",
    "    # Load .png image\n",
    "    image = cv2.imread(img_png)\n",
    "    _, name_png = os.path.split(img_png)\n",
    "    name_jpg = name_png.replace('.png', '.jpg')\n",
    "\n",
    "    # Save .jpg image\n",
    "    img_jpg = os.path.join(dir_dest, name_jpg)\n",
    "    cv2.imwrite(img_jpg, image, [int(cv2.IMWRITE_JPEG_QUALITY), 100])\n",
    "\n",
    "    #break\n"
   ]
  },
  {
   "cell_type": "code",
   "execution_count": null,
   "id": "bce015a6",
   "metadata": {},
   "outputs": [],
   "source": []
  }
 ],
 "metadata": {
  "kernelspec": {
   "display_name": "Python 3 (ipykernel)",
   "language": "python",
   "name": "python3"
  },
  "language_info": {
   "codemirror_mode": {
    "name": "ipython",
    "version": 3
   },
   "file_extension": ".py",
   "mimetype": "text/x-python",
   "name": "python",
   "nbconvert_exporter": "python",
   "pygments_lexer": "ipython3",
   "version": "3.8.13"
  }
 },
 "nbformat": 4,
 "nbformat_minor": 5
}
