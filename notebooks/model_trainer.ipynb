{
 "cells": [
  {
   "cell_type": "markdown",
   "metadata": {},
   "source": [
    "# Model trainer\n",
    "Definición y entrenamiento del modelo.\n",
    "\n",
    "Referencias: \n",
    "*  https://keras.io/examples/vision/super_resolution_sub_pixel/\n",
    "*  https://pyimagesearch.com/2021/09/27/pixel-shuffle-super-resolution-with-tensorflow-keras-and-deep-learning/"
   ]
  },
  {
   "cell_type": "markdown",
   "metadata": {},
   "source": [
    "Importamos las librerías necesarias."
   ]
  },
  {
   "cell_type": "code",
   "execution_count": 13,
   "metadata": {},
   "outputs": [],
   "source": [
    "import os\n",
    "import numpy as np\n",
    "import time\n",
    "from imutils import paths\n",
    "import matplotlib.pyplot as plt\n",
    "\n",
    "import tensorflow as tf\n",
    "from tensorflow import keras\n",
    "from tensorflow.keras.layers import Input, Add, Conv2D\n",
    "from tensorflow.keras.models import Model, save_model\n",
    "from tensorflow.keras.callbacks import EarlyStopping\n"
   ]
  },
  {
   "cell_type": "markdown",
   "metadata": {},
   "source": [
    "Bloque de configuración:"
   ]
  },
  {
   "cell_type": "code",
   "execution_count": 14,
   "metadata": {},
   "outputs": [],
   "source": [
    "# root path\n",
    "ROOT_PATH = 'C:\\\\_pfm'\n",
    "\n",
    "# specify paths to the different splits of the dataset\n",
    "TRAIN_SET = os.path.join(ROOT_PATH, 'img', 'train')\n",
    "VAL_SET = os.path.join(ROOT_PATH, 'img', 'val')\n",
    "SAVED_MODEL = os.path.join(ROOT_PATH, 'model')\n",
    "\n",
    "# specify the initial size of the images and downsampling factor\n",
    "ORIG_SIZE = (300, 300)\n",
    "DOWN_FACTOR = 3\n",
    "\n",
    "# specify number of RDB blocks, batch size, number of epochs, and\n",
    "# initial learning rate to train our model\n",
    "RDB_LAYERS = 3\n",
    "BATCH_SIZE = 8\n",
    "EPOCHS = 2 #100\n",
    "LR = 1e-3\n",
    "PATIENCE = 10\n"
   ]
  },
  {
   "cell_type": "code",
   "execution_count": 15,
   "metadata": {},
   "outputs": [],
   "source": [
    "# Función que toma la ruta de una imagen y devuelve el par de entrenamiento muestra-objetivo.\n",
    "\n",
    "def process_input(imagePath, downFactor=DOWN_FACTOR):\n",
    "    # determine size of the downsampled images\n",
    "    resizeShape = ORIG_SIZE[0] // downFactor\n",
    "    \n",
    "    # load the original image from disk, decode it as a JPEG image,\n",
    "    # scale its pixel values to [0, 1] range, and resize the image\n",
    "    origImage = tf.io.read_file(imagePath)\n",
    "    origImage = tf.image.decode_jpeg(origImage, 3)\n",
    "    origImage = tf.image.convert_image_dtype(origImage, tf.float32)\n",
    "    origImage = tf.image.resize(origImage, ORIG_SIZE, method=\"area\")\n",
    "\n",
    "    # convert the color space from RGB to YUV and only keep the Y\n",
    "    # channel (which is our target variable)\n",
    "    origImageYUV = tf.image.rgb_to_yuv(origImage)\n",
    "    (target, _, _) = tf.split(origImageYUV, 3, axis=-1)\n",
    "    \n",
    "    # resize the target to a lower resolution\n",
    "    downImage = tf.image.resize(target, [resizeShape, resizeShape], method=\"area\")\n",
    "    \n",
    "    # clip the values of the input and target to [0, 1] range\n",
    "    target = tf.clip_by_value(target, 0.0, 1.0)\n",
    "    downImage = tf.clip_by_value(downImage, 0.0, 1.0)\n",
    "    \n",
    "    # return a tuple of the downsampled image and original image\n",
    "    # Nota: el entrenamiento se realiza con tamaños de imagen fijados (100x100 y 300x300) y sobre el canal Y (luminosidad).\n",
    "    return (downImage, target)"
   ]
  },
  {
   "cell_type": "markdown",
   "metadata": {},
   "source": [
    "Funciones varias necesarias para construir y entrenar el modelo."
   ]
  },
  {
   "cell_type": "code",
   "execution_count": 16,
   "metadata": {},
   "outputs": [],
   "source": [
    "# Función que genera los bloques RDB (Residual Dense Blocks) del modelo\n",
    "\n",
    "def rdb_block(inputs, numLayers):\n",
    "    # determine the number of channels present in the current input\n",
    "    # and initialize a list with the current inputs for concatenation\n",
    "    channels = inputs.get_shape()[-1]\n",
    "    storedOutputs = [inputs]\n",
    "    \n",
    "    # iterate through the number of residual dense layers\n",
    "    for _ in range(numLayers):\n",
    "        # concatenate the previous outputs and pass it through a\n",
    "        # CONV layer, and append the output to the ongoing concatenation\n",
    "        localConcat = tf.concat(storedOutputs, axis=-1)\n",
    "        out = Conv2D(filters=channels, \n",
    "            kernel_size=3, \n",
    "            padding=\"same\",\n",
    "            activation=\"relu\",\n",
    "            kernel_initializer=\"Orthogonal\")(localConcat)\n",
    "        storedOutputs.append(out)\n",
    "        \n",
    "    # concatenate all the outputs, pass it through a pointwise\n",
    "    # convolutional layer, and add the outputs to initial inputs\n",
    "    finalConcat = tf.concat(storedOutputs, axis=-1)\n",
    "    finalOut = Conv2D(filters=inputs.get_shape()[-1], \n",
    "        kernel_size=1,\n",
    "        padding=\"same\", \n",
    "        activation=\"relu\",\n",
    "        kernel_initializer=\"Orthogonal\")(finalConcat)\n",
    "    finalOut = Add()([finalOut, inputs])\n",
    "    \n",
    "    # return the final output\n",
    "    return finalOut\n"
   ]
  },
  {
   "cell_type": "code",
   "execution_count": 17,
   "metadata": {},
   "outputs": [],
   "source": [
    "# Función que construye el modelo\n",
    "\n",
    "def get_subpixel_net(downsampleFactor=DOWN_FACTOR, channels=1, rdbLayers=RDB_LAYERS):\n",
    "    conv_args = {\n",
    "        \"activation\": \"relu\",\n",
    "        \"kernel_initializer\": \"Orthogonal\",\n",
    "        \"padding\": \"same\",\n",
    "    }\n",
    "    \n",
    "    # initialize an input layer\n",
    "    inputs = Input((None, None, 1))\n",
    "    \n",
    "    # pass the inputs through a CONV => CONV block\n",
    "    x = Conv2D(64, 5, **conv_args)(inputs)\n",
    "    x = Conv2D(64, 3, **conv_args)(x)\n",
    "    \n",
    "    # pass the outputs through an RDB => CONV => RDB block\n",
    "    x = rdb_block(x, numLayers=rdbLayers)\n",
    "    x = Conv2D(32, 3, **conv_args)(x)\n",
    "    x = rdb_block(x, numLayers=rdbLayers)\n",
    "    \n",
    "    # pass the inputs through a final CONV layer such that the\n",
    "    # channels of the outputs can be spatially organized into\n",
    "    # the output resolution\n",
    "    x = Conv2D(channels * (downsampleFactor ** 2), 3, **conv_args)(x)\n",
    "    outputs = tf.nn.depth_to_space(x, downsampleFactor)\n",
    "\n",
    "    # construct the final model and return it\n",
    "    model = Model(inputs, outputs)\n",
    "    \n",
    "    return model\n"
   ]
  },
  {
   "cell_type": "code",
   "execution_count": 18,
   "metadata": {},
   "outputs": [],
   "source": [
    "# Función que calcula el PSNR (Peak Signal to Noise Ratio). Usaremos el PSNR como métrica de nuestro modelo\n",
    "\n",
    "def psnr(orig, pred):\n",
    "    # cast the target images to integer\n",
    "    orig = orig * 255.0\n",
    "    orig = tf.cast(orig, tf.uint8)\n",
    "    orig = tf.clip_by_value(orig, 0, 255)\n",
    "\n",
    "    # cast the predicted images to integer\n",
    "    pred = pred * 255.0\n",
    "    pred = tf.cast(pred, tf.uint8)\n",
    "    pred = tf.clip_by_value(pred, 0, 255)\n",
    "    \n",
    "    # return the psnr\n",
    "    return tf.image.psnr(orig, pred, max_val=255)\n"
   ]
  },
  {
   "cell_type": "code",
   "execution_count": 19,
   "metadata": {},
   "outputs": [],
   "source": [
    "# Función que muestra la evolución de la función de pérdida y de la metrica durante el entrenamiento\n",
    "\n",
    "def show_loss_psnr_evolution(hist):\n",
    "\n",
    "    plt.style.use(\"ggplot\")\n",
    "    fig, (ax1, ax2) = plt.subplots(1, 2, figsize=(12, 4))\n",
    "\n",
    "    ax1.set_title(\"Training/validation Loss (MSE)\")\n",
    "    ax1.set_xlabel('Epoch')\n",
    "    ax1.set_ylabel('Loss')\n",
    "    ax1.plot(hist['loss'], label='Train Error')\n",
    "    ax1.plot(hist['val_loss'], label = 'Val Error')\n",
    "    ax1.grid()\n",
    "    ax1.legend()\n",
    "\n",
    "    ax2.set_title(\"Training/validation PSNR\")\n",
    "    ax2.set_xlabel('Epoch')\n",
    "    ax2.set_ylabel('PSNR')\n",
    "    ax2.plot(hist['psnr'], label='Train PSNR')\n",
    "    ax2.plot(hist['val_psnr'], label = 'Val PSNR')\n",
    "    ax2.grid()\n",
    "    ax2.legend()\n",
    "\n",
    "    plt.show()\n",
    "    "
   ]
  },
  {
   "cell_type": "code",
   "execution_count": 20,
   "metadata": {},
   "outputs": [
    {
     "name": "stdout",
     "output_type": "stream",
     "text": [
      "[INFO] loading images from disk...\n",
      "[INFO] preparing data loaders...\n"
     ]
    }
   ],
   "source": [
    "# Creación de los datasets\n",
    "\n",
    "# define autotune flag for performance optimization\n",
    "AUTO = tf.data.experimental.AUTOTUNE\n",
    "\n",
    "# load the image paths from disk and initialize TensorFlow Dataset objects\n",
    "print(\"[INFO] loading images from disk...\")\n",
    "trainPaths = list(paths.list_images(TRAIN_SET))\n",
    "valPaths = list(paths.list_images(VAL_SET))\n",
    "trainDS = tf.data.Dataset.from_tensor_slices(trainPaths)\n",
    "valDS = tf.data.Dataset.from_tensor_slices(valPaths)\n",
    "\n",
    "# prepare data loaders\n",
    "print(\"[INFO] preparing data loaders...\")\n",
    "trainDS = trainDS.map(process_input, num_parallel_calls=AUTO).batch(BATCH_SIZE).prefetch(AUTO)\n",
    "valDS = valDS.map(process_input, num_parallel_calls=AUTO).batch(BATCH_SIZE).prefetch(AUTO)\n"
   ]
  },
  {
   "cell_type": "markdown",
   "metadata": {},
   "source": [
    "### Entrenamiento"
   ]
  },
  {
   "cell_type": "code",
   "execution_count": 21,
   "metadata": {},
   "outputs": [
    {
     "name": "stdout",
     "output_type": "stream",
     "text": [
      "[INFO] initializing and training model...\n"
     ]
    }
   ],
   "source": [
    "print(\"[INFO] initializing and training model...\")\n",
    "model = get_subpixel_net()\n",
    "#model.summary()"
   ]
  },
  {
   "cell_type": "code",
   "execution_count": 22,
   "metadata": {},
   "outputs": [],
   "source": [
    "early_stopping_callback = keras.callbacks.EarlyStopping(monitor='val_loss', patience=PATIENCE)\n",
    "\n",
    "callbacks = [early_stopping_callback]\n",
    "\n",
    "loss_fn = keras.losses.MeanSquaredError()\n",
    "optimizer = keras.optimizers.Adam(learning_rate=LR)"
   ]
  },
  {
   "cell_type": "code",
   "execution_count": 23,
   "metadata": {},
   "outputs": [
    {
     "name": "stdout",
     "output_type": "stream",
     "text": [
      "Epoch 1/2\n",
      "375/375 [==============================] - 729s 2s/step - loss: 0.0077 - psnr: 26.6101 - val_loss: 0.0023 - val_psnr: 26.5993\n",
      "Epoch 2/2\n",
      "375/375 [==============================] - 821s 2s/step - loss: 0.0017 - psnr: 28.8173 - val_loss: 0.0022 - val_psnr: 27.6651\n",
      "CPU times: total: 2h 52min 9s\n",
      "Wall time: 25min 50s\n"
     ]
    }
   ],
   "source": [
    "%%time\n",
    "# initialize, compile, and train the model\n",
    "# metrica PSNR: the goal of our model will be to maximize the Peak Signal to Noise Ratio\n",
    "# We use the 'adam' optimizer and choose 'mse' (mean squared error) as our loss function\n",
    "\n",
    "model.compile(optimizer=optimizer, loss=loss_fn, metrics=psnr)\n",
    "\n",
    "H = model.fit(trainDS, validation_data=valDS, epochs=EPOCHS, callbacks=callbacks, verbose=1)\n"
   ]
  },
  {
   "cell_type": "code",
   "execution_count": 24,
   "metadata": {},
   "outputs": [
    {
     "data": {
      "image/png": "[encoded data removed]",
      "text/plain": [
       "<Figure size 864x288 with 2 Axes>"
      ]
     },
     "metadata": {},
     "output_type": "display_data"
    }
   ],
   "source": [
    "# Evolución el entrenamiento\n",
    "show_loss_psnr_evolution(H.history)\n"
   ]
  },
  {
   "cell_type": "markdown",
   "metadata": {},
   "source": [
    "## Guardar modelo\n",
    "Guardamos el modelo para poder usarlo directamente en nuesta aplicación."
   ]
  },
  {
   "cell_type": "code",
   "execution_count": 25,
   "metadata": {},
   "outputs": [
    {
     "name": "stdout",
     "output_type": "stream",
     "text": [
      "[INFO] saving model...\n",
      "INFO:tensorflow:Assets written to: C:\\_pfm\\model\\assets\n"
     ]
    }
   ],
   "source": [
    "# save the trained model\n",
    "print(\"[INFO] saving model...\")\n",
    "save_model(model, SAVED_MODEL)"
   ]
  },
  {
   "cell_type": "code",
   "execution_count": null,
   "metadata": {},
   "outputs": [],
   "source": []
  }
 ],
 "metadata": {
  "kernelspec": {
   "display_name": "Python 3 (ipykernel)",
   "language": "python",
   "name": "python3"
  },
  "language_info": {
   "codemirror_mode": {
    "name": "ipython",
    "version": 3
   },
   "file_extension": ".py",
   "mimetype": "text/x-python",
   "name": "python",
   "nbconvert_exporter": "python",
   "pygments_lexer": "ipython3",
   "version": "3.8.13"
  }
 },
 "nbformat": 4,
 "nbformat_minor": 4
}
